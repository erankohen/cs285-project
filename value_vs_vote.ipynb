{
 "cells": [
  {
   "cell_type": "code",
   "execution_count": 1,
   "metadata": {},
   "outputs": [],
   "source": [
    "import json\n",
    "import numpy as np\n",
    "import matplotlib.pyplot as plt"
   ]
  },
  {
   "cell_type": "code",
   "execution_count": 67,
   "metadata": {},
   "outputs": [],
   "source": [
    "with open('tree-of-thought-llm/src/logs/pie/gpt-3.5-turbo-1106_1.0_sample3_value3_greedy2_start0_end50.json') as f:\n",
    "    data = json.load(f)"
   ]
  },
  {
   "cell_type": "code",
   "execution_count": 68,
   "metadata": {},
   "outputs": [],
   "source": [
    "vals_and_gt = [[{\"values\": s['values'], \"gt_values\": s['gt_values']} for s in obj[\"steps\"]] for obj in data]"
   ]
  },
  {
   "cell_type": "code",
   "execution_count": 69,
   "metadata": {},
   "outputs": [],
   "source": [
    "vals_and_gt = np.array(vals_and_gt).flatten()"
   ]
  },
  {
   "cell_type": "code",
   "execution_count": 70,
   "metadata": {},
   "outputs": [],
   "source": [
    "filtered_vals_and_gt = []\n",
    "\n",
    "for obj in vals_and_gt:\n",
    "    gt_vals = np.array(obj[\"gt_values\"])\n",
    "    if not np.all(np.logical_or(np.isinf(gt_vals), np.isnan(gt_vals))):\n",
    "        filtered_vals_and_gt.append(obj)"
   ]
  },
  {
   "cell_type": "code",
   "execution_count": 71,
   "metadata": {},
   "outputs": [],
   "source": [
    "# Python3 program to make  \n",
    "# an array same to another \n",
    "# using minimum number of swap \n",
    "  \n",
    "# Function returns the minimum  \n",
    "# number of swaps required to  \n",
    "# sort the array \n",
    "# This method is taken from below post \n",
    "# https: // www.geeksforgeeks.org/ \n",
    "# minimum-number-swaps-required-sort-array/ \n",
    "def minSwapsToSort(arr, n): \n",
    "  \n",
    "    # Create an array of pairs  \n",
    "    # where first element is  \n",
    "    # array element and second \n",
    "    # element is position of  \n",
    "    # first element \n",
    "    arrPos = [[0 for x in range(2)]  \n",
    "                 for y in range(n)] \n",
    "      \n",
    "    for i in range(n):     \n",
    "        arrPos[i][0] = arr[i] \n",
    "        arrPos[i][1] = i \n",
    "  \n",
    "    # Sort the array by array  \n",
    "    # element values to get right \n",
    "    # position of every element  \n",
    "    # as second element of pair. \n",
    "    arrPos.sort() \n",
    "  \n",
    "    # To keep track of visited  \n",
    "    # elements. Initialize all  \n",
    "    # elements as not visited  \n",
    "    # or false. \n",
    "    vis = [False] * (n) \n",
    "  \n",
    "    # Initialize result \n",
    "    ans = 0\n",
    "  \n",
    "    # Traverse array elements \n",
    "    for i in range(n): \n",
    "      \n",
    "        # Already swapped and corrected or \n",
    "        # already present at correct pos \n",
    "        if (vis[i] or arrPos[i][1] == i): \n",
    "            continue\n",
    "  \n",
    "        # Find out the number of  node in \n",
    "        # this cycle and add in ans \n",
    "        cycle_size = 0\n",
    "        j = i \n",
    "          \n",
    "        while (not vis[j]):         \n",
    "            vis[j] = 1\n",
    "  \n",
    "            # Move to next node \n",
    "            j = arrPos[j][1] \n",
    "            cycle_size+= 1\n",
    "         \n",
    "        # Update answer by  \n",
    "        # adding current cycle. \n",
    "        ans += (cycle_size - 1)   \n",
    "  \n",
    "    # Return result \n",
    "    return ans \n",
    "\n",
    "# Method returns minimum  \n",
    "# number of swap to make \n",
    "# array B same as array A \n",
    "def minSwapToMakeArraySame(a, b, n): \n",
    "          \n",
    "    # map to store position  \n",
    "    # of elements in array B \n",
    "    # we basically store  \n",
    "    # element to index mapping. \n",
    "    mp = {} \n",
    "    for i in range(n): \n",
    "        mp[b[i]] = i \n",
    "  \n",
    "    # now we're storing position  \n",
    "    # of array A elements \n",
    "    # in array B. \n",
    "    for i in range(n): \n",
    "        b[i] = mp[a[i]] \n",
    "  \n",
    "    # Returning minimum swap  \n",
    "    # for sorting in modified \n",
    "    # array B as final answer \n",
    "    return minSwapsToSort(b, n) "
   ]
  },
  {
   "cell_type": "code",
   "execution_count": 12,
   "metadata": {},
   "outputs": [],
   "source": [
    "for obj in filtered_vals_and_gt:\n",
    "    vals = np.array(obj[\"values\"])\n",
    "    gt_vals = np.array(obj[\"gt_values\"])\n",
    "    val_idx = np.argsort(vals)\n",
    "    gt_val_idx = np.argsort(gt_vals)\n",
    "\n",
    "    swaps = minSwapToMakeArraySame(val_idx, gt_val_idx, len(val_idx))\n",
    "    obj['swaps'] = swaps\n",
    "    "
   ]
  },
  {
   "cell_type": "code",
   "execution_count": 16,
   "metadata": {},
   "outputs": [
    {
     "data": {
      "text/plain": [
       "(array([10., 16., 10., 18., 22., 46., 12.]),\n",
       " array([1.        , 1.85714286, 2.71428571, 3.57142857, 4.42857143,\n",
       "        5.28571429, 6.14285714, 7.        ]),\n",
       " <BarContainer object of 7 artists>)"
      ]
     },
     "execution_count": 16,
     "metadata": {},
     "output_type": "execute_result"
    },
    {
     "data": {
      "image/png": "[encoded data removed]",
      "text/plain": [
       "<Figure size 640x480 with 1 Axes>"
      ]
     },
     "metadata": {},
     "output_type": "display_data"
    }
   ],
   "source": [
    "plt.hist([obj['swaps'] for obj in filtered_vals_and_gt], bins=7)"
   ]
  },
  {
   "cell_type": "code",
   "execution_count": 74,
   "metadata": {},
   "outputs": [],
   "source": [
    "for obj in filtered_vals_and_gt:\n",
    "    vals = np.array(obj[\"values\"])\n",
    "    gt_vals = np.array(obj[\"gt_values\"])\n",
    "    val_idx = np.argsort(vals)\n",
    "    gt_val_idx = np.argsort(gt_vals)\n",
    "\n",
    "    first = val_idx[0]\n",
    "    second = val_idx[1]\n",
    "    first_pos_in_gt = np.where(gt_val_idx == first)[0][0]\n",
    "    second_pos_in_gt = np.where(gt_val_idx == second)[0][0]\n",
    "    obj['gt_vs_val'] = max(first_pos_in_gt, second_pos_in_gt)"
   ]
  },
  {
   "cell_type": "code",
   "execution_count": 75,
   "metadata": {},
   "outputs": [
    {
     "data": {
      "text/plain": [
       "(array([ 8., 14., 25., 17., 19., 22., 29.]),\n",
       " array([1.        , 1.85714286, 2.71428571, 3.57142857, 4.42857143,\n",
       "        5.28571429, 6.14285714, 7.        ]),\n",
       " <BarContainer object of 7 artists>)"
      ]
     },
     "execution_count": 75,
     "metadata": {},
     "output_type": "execute_result"
    },
    {
     "data": {
      "image/png": "[encoded data removed]",
      "text/plain": [
       "<Figure size 640x480 with 1 Axes>"
      ]
     },
     "metadata": {},
     "output_type": "display_data"
    }
   ],
   "source": [
    "plt.hist([obj['gt_vs_val'] for obj in filtered_vals_and_gt], bins=7)"
   ]
  },
  {
   "cell_type": "code",
   "execution_count": 49,
   "metadata": {},
   "outputs": [
    {
     "name": "stdout",
     "output_type": "stream",
     "text": [
      "0.32608695652173914\n"
     ]
    }
   ],
   "source": [
    "# count all 3s in values in filtered_vals_and_gt\n",
    "count = 0\n",
    "for obj in filtered_vals_and_gt:\n",
    "    vals = np.array(obj[\"values\"])\n",
    "    count += np.sum(vals == 3)\n",
    "print(count / len(filtered_vals_and_gt))"
   ]
  },
  {
   "cell_type": "code",
   "execution_count": 50,
   "metadata": {},
   "outputs": [
    {
     "name": "stdout",
     "output_type": "stream",
     "text": [
      "0.18840579710144928\n"
     ]
    }
   ],
   "source": [
    "# count all 3s in values in filtered_vals_and_gt\n",
    "count = 0\n",
    "for obj in filtered_vals_and_gt:\n",
    "    vals = np.array(obj[\"values\"])\n",
    "    count += np.sum(vals == 1) == 3\n",
    "print(count / len(filtered_vals_and_gt))"
   ]
  },
  {
   "cell_type": "code",
   "execution_count": 51,
   "metadata": {},
   "outputs": [],
   "source": [
    "more_filtered_vals_and_gt = []\n",
    "\n",
    "for obj in filtered_vals_and_gt:\n",
    "    vals = np.array(obj[\"values\"])\n",
    "    if not np.sum(vals == 1) == 3 and not np.sum(vals == 3) == 1:\n",
    "        more_filtered_vals_and_gt.append(obj)"
   ]
  },
  {
   "cell_type": "code",
   "execution_count": 59,
   "metadata": {},
   "outputs": [],
   "source": [
    "for obj in more_filtered_vals_and_gt:\n",
    "    vals = np.array(obj[\"values\"])\n",
    "    gt_vals = np.array(obj[\"gt_values\"])\n",
    "    val_idx = np.argsort(vals)\n",
    "    gt_val_idx = np.argsort(gt_vals)\n",
    "\n",
    "    first = val_idx[0]\n",
    "    second = val_idx[1]\n",
    "    first_pos_in_gt = np.where(gt_val_idx == first)[0][0]\n",
    "    second_pos_in_gt = np.where(gt_val_idx == second)[0][0]\n",
    "    obj['gt_vs_val'] = max(first_pos_in_gt, second_pos_in_gt)"
   ]
  },
  {
   "cell_type": "code",
   "execution_count": 60,
   "metadata": {},
   "outputs": [
    {
     "data": {
      "text/plain": [
       "(array([12., 13., 14.,  8.,  7., 13.]),\n",
       " array([1., 2., 3., 4., 5., 6., 7.]),\n",
       " <BarContainer object of 6 artists>)"
      ]
     },
     "execution_count": 60,
     "metadata": {},
     "output_type": "execute_result"
    },
    {
     "data": {
      "image/png": "[encoded data removed]",
      "text/plain": [
       "<Figure size 640x480 with 1 Axes>"
      ]
     },
     "metadata": {},
     "output_type": "display_data"
    }
   ],
   "source": [
    "plt.hist([obj['gt_vs_val'] for obj in more_filtered_vals_and_gt], bins=6)"
   ]
  },
  {
   "cell_type": "code",
   "execution_count": null,
   "metadata": {},
   "outputs": [],
   "source": []
  }
 ],
 "metadata": {
  "kernelspec": {
   "display_name": "cs285-project",
   "language": "python",
   "name": "python3"
  },
  "language_info": {
   "codemirror_mode": {
    "name": "ipython",
    "version": 3
   },
   "file_extension": ".py",
   "mimetype": "text/x-python",
   "name": "python",
   "nbconvert_exporter": "python",
   "pygments_lexer": "ipython3",
   "version": "3.8.3"
  },
  "orig_nbformat": 4
 },
 "nbformat": 4,
 "nbformat_minor": 2
}
